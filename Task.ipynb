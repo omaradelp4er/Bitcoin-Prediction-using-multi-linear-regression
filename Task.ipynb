{
 "cells": [
  {
   "cell_type": "markdown",
   "metadata": {},
   "source": [
    "# Data Wrangling"
   ]
  },
  {
   "cell_type": "code",
   "execution_count": 31,
   "metadata": {},
   "outputs": [],
   "source": [
    "import matplotlib.pyplot as plt\n",
    "import pandas as pd\n",
    "import numpy as np\n",
    "import sklearn\n",
    "from sklearn.model_selection import train_test_split\n",
    "from collections import Counter\n",
    "from sklearn.linear_model import LinearRegression\n",
    "import seaborn as sns\n"
   ]
  },
  {
   "cell_type": "code",
   "execution_count": 32,
   "metadata": {},
   "outputs": [
    {
     "data": {
      "text/html": [
       "<div>\n",
       "<style scoped>\n",
       "    .dataframe tbody tr th:only-of-type {\n",
       "        vertical-align: middle;\n",
       "    }\n",
       "\n",
       "    .dataframe tbody tr th {\n",
       "        vertical-align: top;\n",
       "    }\n",
       "\n",
       "    .dataframe thead th {\n",
       "        text-align: right;\n",
       "    }\n",
       "</style>\n",
       "<table border=\"1\" class=\"dataframe\">\n",
       "  <thead>\n",
       "    <tr style=\"text-align: right;\">\n",
       "      <th></th>\n",
       "      <th>Date</th>\n",
       "      <th>Open</th>\n",
       "      <th>High</th>\n",
       "      <th>Low</th>\n",
       "      <th>Close</th>\n",
       "      <th>Volume</th>\n",
       "      <th>Market Cap</th>\n",
       "    </tr>\n",
       "  </thead>\n",
       "  <tbody>\n",
       "    <tr>\n",
       "      <th>0</th>\n",
       "      <td>Jul 31, 2017</td>\n",
       "      <td>2763.24</td>\n",
       "      <td>2889.62</td>\n",
       "      <td>2720.61</td>\n",
       "      <td>2875.34</td>\n",
       "      <td>860,575,000</td>\n",
       "      <td>45,535,800,000</td>\n",
       "    </tr>\n",
       "    <tr>\n",
       "      <th>1</th>\n",
       "      <td>Jul 30, 2017</td>\n",
       "      <td>2724.39</td>\n",
       "      <td>2758.53</td>\n",
       "      <td>2644.85</td>\n",
       "      <td>2757.18</td>\n",
       "      <td>705,943,000</td>\n",
       "      <td>44,890,700,000</td>\n",
       "    </tr>\n",
       "    <tr>\n",
       "      <th>2</th>\n",
       "      <td>Jul 29, 2017</td>\n",
       "      <td>2807.02</td>\n",
       "      <td>2808.76</td>\n",
       "      <td>2692.80</td>\n",
       "      <td>2726.45</td>\n",
       "      <td>803,746,000</td>\n",
       "      <td>46,246,700,000</td>\n",
       "    </tr>\n",
       "    <tr>\n",
       "      <th>3</th>\n",
       "      <td>Jul 28, 2017</td>\n",
       "      <td>2679.73</td>\n",
       "      <td>2897.45</td>\n",
       "      <td>2679.73</td>\n",
       "      <td>2809.01</td>\n",
       "      <td>1,380,100,000</td>\n",
       "      <td>44,144,400,000</td>\n",
       "    </tr>\n",
       "    <tr>\n",
       "      <th>4</th>\n",
       "      <td>Jul 27, 2017</td>\n",
       "      <td>2538.71</td>\n",
       "      <td>2693.32</td>\n",
       "      <td>2529.34</td>\n",
       "      <td>2671.78</td>\n",
       "      <td>789,104,000</td>\n",
       "      <td>41,816,500,000</td>\n",
       "    </tr>\n",
       "    <tr>\n",
       "      <th>...</th>\n",
       "      <td>...</td>\n",
       "      <td>...</td>\n",
       "      <td>...</td>\n",
       "      <td>...</td>\n",
       "      <td>...</td>\n",
       "      <td>...</td>\n",
       "      <td>...</td>\n",
       "    </tr>\n",
       "    <tr>\n",
       "      <th>1551</th>\n",
       "      <td>May 02, 2013</td>\n",
       "      <td>116.38</td>\n",
       "      <td>125.60</td>\n",
       "      <td>92.28</td>\n",
       "      <td>105.21</td>\n",
       "      <td>-</td>\n",
       "      <td>1,292,190,000</td>\n",
       "    </tr>\n",
       "    <tr>\n",
       "      <th>1552</th>\n",
       "      <td>May 01, 2013</td>\n",
       "      <td>139.00</td>\n",
       "      <td>139.89</td>\n",
       "      <td>107.72</td>\n",
       "      <td>116.99</td>\n",
       "      <td>-</td>\n",
       "      <td>1,542,820,000</td>\n",
       "    </tr>\n",
       "    <tr>\n",
       "      <th>1553</th>\n",
       "      <td>Apr 30, 2013</td>\n",
       "      <td>144.00</td>\n",
       "      <td>146.93</td>\n",
       "      <td>134.05</td>\n",
       "      <td>139.00</td>\n",
       "      <td>-</td>\n",
       "      <td>1,597,780,000</td>\n",
       "    </tr>\n",
       "    <tr>\n",
       "      <th>1554</th>\n",
       "      <td>Apr 29, 2013</td>\n",
       "      <td>134.44</td>\n",
       "      <td>147.49</td>\n",
       "      <td>134.00</td>\n",
       "      <td>144.54</td>\n",
       "      <td>-</td>\n",
       "      <td>1,491,160,000</td>\n",
       "    </tr>\n",
       "    <tr>\n",
       "      <th>1555</th>\n",
       "      <td>Apr 28, 2013</td>\n",
       "      <td>135.30</td>\n",
       "      <td>135.98</td>\n",
       "      <td>132.10</td>\n",
       "      <td>134.21</td>\n",
       "      <td>-</td>\n",
       "      <td>1,500,520,000</td>\n",
       "    </tr>\n",
       "  </tbody>\n",
       "</table>\n",
       "<p>1556 rows × 7 columns</p>\n",
       "</div>"
      ],
      "text/plain": [
       "              Date     Open     High      Low    Close         Volume  \\\n",
       "0     Jul 31, 2017  2763.24  2889.62  2720.61  2875.34    860,575,000   \n",
       "1     Jul 30, 2017  2724.39  2758.53  2644.85  2757.18    705,943,000   \n",
       "2     Jul 29, 2017  2807.02  2808.76  2692.80  2726.45    803,746,000   \n",
       "3     Jul 28, 2017  2679.73  2897.45  2679.73  2809.01  1,380,100,000   \n",
       "4     Jul 27, 2017  2538.71  2693.32  2529.34  2671.78    789,104,000   \n",
       "...            ...      ...      ...      ...      ...            ...   \n",
       "1551  May 02, 2013   116.38   125.60    92.28   105.21              -   \n",
       "1552  May 01, 2013   139.00   139.89   107.72   116.99              -   \n",
       "1553  Apr 30, 2013   144.00   146.93   134.05   139.00              -   \n",
       "1554  Apr 29, 2013   134.44   147.49   134.00   144.54              -   \n",
       "1555  Apr 28, 2013   135.30   135.98   132.10   134.21              -   \n",
       "\n",
       "          Market Cap  \n",
       "0     45,535,800,000  \n",
       "1     44,890,700,000  \n",
       "2     46,246,700,000  \n",
       "3     44,144,400,000  \n",
       "4     41,816,500,000  \n",
       "...              ...  \n",
       "1551   1,292,190,000  \n",
       "1552   1,542,820,000  \n",
       "1553   1,597,780,000  \n",
       "1554   1,491,160,000  \n",
       "1555   1,500,520,000  \n",
       "\n",
       "[1556 rows x 7 columns]"
      ]
     },
     "execution_count": 32,
     "metadata": {},
     "output_type": "execute_result"
    }
   ],
   "source": [
    "data=pd.read_csv(\"bitcoin_price_Training - Training.csv\")\n",
    "data"
   ]
  },
  {
   "cell_type": "code",
   "execution_count": 33,
   "metadata": {},
   "outputs": [
    {
     "name": "stdout",
     "output_type": "stream",
     "text": [
      "<class 'pandas.core.frame.DataFrame'>\n",
      "RangeIndex: 1556 entries, 0 to 1555\n",
      "Data columns (total 7 columns):\n",
      " #   Column      Non-Null Count  Dtype  \n",
      "---  ------      --------------  -----  \n",
      " 0   Date        1556 non-null   object \n",
      " 1   Open        1556 non-null   float64\n",
      " 2   High        1556 non-null   float64\n",
      " 3   Low         1556 non-null   float64\n",
      " 4   Close       1556 non-null   float64\n",
      " 5   Volume      1556 non-null   object \n",
      " 6   Market Cap  1556 non-null   object \n",
      "dtypes: float64(4), object(3)\n",
      "memory usage: 85.2+ KB\n"
     ]
    }
   ],
   "source": [
    "data.info()"
   ]
  },
  {
   "cell_type": "code",
   "execution_count": 34,
   "metadata": {},
   "outputs": [
    {
     "data": {
      "text/plain": [
       "Date          0\n",
       "Open          0\n",
       "High          0\n",
       "Low           0\n",
       "Close         0\n",
       "Volume        0\n",
       "Market Cap    0\n",
       "dtype: int64"
      ]
     },
     "execution_count": 34,
     "metadata": {},
     "output_type": "execute_result"
    }
   ],
   "source": [
    "data.isna().sum()"
   ]
  },
  {
   "cell_type": "code",
   "execution_count": 35,
   "metadata": {},
   "outputs": [
    {
     "data": {
      "text/plain": [
       "0"
      ]
     },
     "execution_count": 35,
     "metadata": {},
     "output_type": "execute_result"
    }
   ],
   "source": [
    "data.duplicated().sum()"
   ]
  },
  {
   "cell_type": "code",
   "execution_count": 36,
   "metadata": {},
   "outputs": [
    {
     "data": {
      "text/html": [
       "<div>\n",
       "<style scoped>\n",
       "    .dataframe tbody tr th:only-of-type {\n",
       "        vertical-align: middle;\n",
       "    }\n",
       "\n",
       "    .dataframe tbody tr th {\n",
       "        vertical-align: top;\n",
       "    }\n",
       "\n",
       "    .dataframe thead th {\n",
       "        text-align: right;\n",
       "    }\n",
       "</style>\n",
       "<table border=\"1\" class=\"dataframe\">\n",
       "  <thead>\n",
       "    <tr style=\"text-align: right;\">\n",
       "      <th></th>\n",
       "      <th>Open</th>\n",
       "      <th>High</th>\n",
       "      <th>Low</th>\n",
       "      <th>Close</th>\n",
       "    </tr>\n",
       "  </thead>\n",
       "  <tbody>\n",
       "    <tr>\n",
       "      <th>count</th>\n",
       "      <td>1556.000000</td>\n",
       "      <td>1556.000000</td>\n",
       "      <td>1556.000000</td>\n",
       "      <td>1556.000000</td>\n",
       "    </tr>\n",
       "    <tr>\n",
       "      <th>mean</th>\n",
       "      <td>582.625328</td>\n",
       "      <td>597.992847</td>\n",
       "      <td>567.851446</td>\n",
       "      <td>584.239396</td>\n",
       "    </tr>\n",
       "    <tr>\n",
       "      <th>std</th>\n",
       "      <td>523.137312</td>\n",
       "      <td>542.992855</td>\n",
       "      <td>505.877401</td>\n",
       "      <td>525.904442</td>\n",
       "    </tr>\n",
       "    <tr>\n",
       "      <th>min</th>\n",
       "      <td>68.500000</td>\n",
       "      <td>74.560000</td>\n",
       "      <td>65.530000</td>\n",
       "      <td>68.430000</td>\n",
       "    </tr>\n",
       "    <tr>\n",
       "      <th>25%</th>\n",
       "      <td>254.287500</td>\n",
       "      <td>260.327500</td>\n",
       "      <td>248.835000</td>\n",
       "      <td>254.320000</td>\n",
       "    </tr>\n",
       "    <tr>\n",
       "      <th>50%</th>\n",
       "      <td>438.600000</td>\n",
       "      <td>447.560000</td>\n",
       "      <td>430.570000</td>\n",
       "      <td>438.855000</td>\n",
       "    </tr>\n",
       "    <tr>\n",
       "      <th>75%</th>\n",
       "      <td>662.437500</td>\n",
       "      <td>674.525000</td>\n",
       "      <td>646.735000</td>\n",
       "      <td>663.402500</td>\n",
       "    </tr>\n",
       "    <tr>\n",
       "      <th>max</th>\n",
       "      <td>2953.220000</td>\n",
       "      <td>2999.910000</td>\n",
       "      <td>2840.530000</td>\n",
       "      <td>2958.110000</td>\n",
       "    </tr>\n",
       "  </tbody>\n",
       "</table>\n",
       "</div>"
      ],
      "text/plain": [
       "              Open         High          Low        Close\n",
       "count  1556.000000  1556.000000  1556.000000  1556.000000\n",
       "mean    582.625328   597.992847   567.851446   584.239396\n",
       "std     523.137312   542.992855   505.877401   525.904442\n",
       "min      68.500000    74.560000    65.530000    68.430000\n",
       "25%     254.287500   260.327500   248.835000   254.320000\n",
       "50%     438.600000   447.560000   430.570000   438.855000\n",
       "75%     662.437500   674.525000   646.735000   663.402500\n",
       "max    2953.220000  2999.910000  2840.530000  2958.110000"
      ]
     },
     "execution_count": 36,
     "metadata": {},
     "output_type": "execute_result"
    }
   ],
   "source": [
    "data.describe()"
   ]
  },
  {
   "cell_type": "markdown",
   "metadata": {},
   "source": [
    "**Observations**:\n",
    "- Label of the \"Market Cap\" columns have space.\n",
    "- Label of all columns will covert to lowercase.\n",
    "- There are TWO columns \"Volume\" & \"Market Cap\" have numeric values but the Dtype is object. \n",
    "- There are NAN values but there is missing values. In \"Volume\" column have some row with meaningless data.\n",
    "- \"Date\" column Dtype will is object but it have DateTime values.\n",
    "- NO duplicated rows."
   ]
  },
  {
   "cell_type": "markdown",
   "metadata": {},
   "source": [
    "### Clearing data"
   ]
  },
  {
   "cell_type": "code",
   "execution_count": 37,
   "metadata": {},
   "outputs": [],
   "source": [
    "data.columns=data.columns.str.lower()"
   ]
  },
  {
   "cell_type": "code",
   "execution_count": 38,
   "metadata": {},
   "outputs": [
    {
     "name": "stdout",
     "output_type": "stream",
     "text": [
      "<class 'pandas.core.frame.DataFrame'>\n",
      "RangeIndex: 1556 entries, 0 to 1555\n",
      "Data columns (total 7 columns):\n",
      " #   Column      Non-Null Count  Dtype  \n",
      "---  ------      --------------  -----  \n",
      " 0   date        1556 non-null   object \n",
      " 1   open        1556 non-null   float64\n",
      " 2   high        1556 non-null   float64\n",
      " 3   low         1556 non-null   float64\n",
      " 4   close       1556 non-null   float64\n",
      " 5   volume      1556 non-null   object \n",
      " 6   market_cap  1556 non-null   object \n",
      "dtypes: float64(4), object(3)\n",
      "memory usage: 85.2+ KB\n"
     ]
    }
   ],
   "source": [
    "data.columns=data.columns.str.replace(' ','_')\n",
    "data.info()"
   ]
  },
  {
   "cell_type": "code",
   "execution_count": 39,
   "metadata": {},
   "outputs": [
    {
     "data": {
      "text/plain": [
       "243"
      ]
     },
     "execution_count": 39,
     "metadata": {},
     "output_type": "execute_result"
    }
   ],
   "source": [
    "# find the number of rows for \"Volume\" column which isn't NAN but have meaningless data\n",
    "\n",
    "(data['volume'] == '-').sum()"
   ]
  },
  {
   "cell_type": "code",
   "execution_count": 40,
   "metadata": {},
   "outputs": [],
   "source": [
    "data= data[data['volume'] !='-']"
   ]
  },
  {
   "cell_type": "code",
   "execution_count": 41,
   "metadata": {},
   "outputs": [
    {
     "data": {
      "text/plain": [
       "0"
      ]
     },
     "execution_count": 41,
     "metadata": {},
     "output_type": "execute_result"
    }
   ],
   "source": [
    "(data['volume'] == '-').sum()"
   ]
  },
  {
   "cell_type": "code",
   "execution_count": 42,
   "metadata": {},
   "outputs": [
    {
     "data": {
      "text/html": [
       "<div>\n",
       "<style scoped>\n",
       "    .dataframe tbody tr th:only-of-type {\n",
       "        vertical-align: middle;\n",
       "    }\n",
       "\n",
       "    .dataframe tbody tr th {\n",
       "        vertical-align: top;\n",
       "    }\n",
       "\n",
       "    .dataframe thead th {\n",
       "        text-align: right;\n",
       "    }\n",
       "</style>\n",
       "<table border=\"1\" class=\"dataframe\">\n",
       "  <thead>\n",
       "    <tr style=\"text-align: right;\">\n",
       "      <th></th>\n",
       "      <th>date</th>\n",
       "      <th>open</th>\n",
       "      <th>high</th>\n",
       "      <th>low</th>\n",
       "      <th>close</th>\n",
       "      <th>volume</th>\n",
       "      <th>market_cap</th>\n",
       "    </tr>\n",
       "  </thead>\n",
       "  <tbody>\n",
       "    <tr>\n",
       "      <th>0</th>\n",
       "      <td>Jul 31, 2017</td>\n",
       "      <td>2763.24</td>\n",
       "      <td>2889.62</td>\n",
       "      <td>2720.61</td>\n",
       "      <td>2875.34</td>\n",
       "      <td>860,575,000</td>\n",
       "      <td>45,535,800,000</td>\n",
       "    </tr>\n",
       "    <tr>\n",
       "      <th>1</th>\n",
       "      <td>Jul 30, 2017</td>\n",
       "      <td>2724.39</td>\n",
       "      <td>2758.53</td>\n",
       "      <td>2644.85</td>\n",
       "      <td>2757.18</td>\n",
       "      <td>705,943,000</td>\n",
       "      <td>44,890,700,000</td>\n",
       "    </tr>\n",
       "    <tr>\n",
       "      <th>2</th>\n",
       "      <td>Jul 29, 2017</td>\n",
       "      <td>2807.02</td>\n",
       "      <td>2808.76</td>\n",
       "      <td>2692.80</td>\n",
       "      <td>2726.45</td>\n",
       "      <td>803,746,000</td>\n",
       "      <td>46,246,700,000</td>\n",
       "    </tr>\n",
       "    <tr>\n",
       "      <th>3</th>\n",
       "      <td>Jul 28, 2017</td>\n",
       "      <td>2679.73</td>\n",
       "      <td>2897.45</td>\n",
       "      <td>2679.73</td>\n",
       "      <td>2809.01</td>\n",
       "      <td>1,380,100,000</td>\n",
       "      <td>44,144,400,000</td>\n",
       "    </tr>\n",
       "    <tr>\n",
       "      <th>4</th>\n",
       "      <td>Jul 27, 2017</td>\n",
       "      <td>2538.71</td>\n",
       "      <td>2693.32</td>\n",
       "      <td>2529.34</td>\n",
       "      <td>2671.78</td>\n",
       "      <td>789,104,000</td>\n",
       "      <td>41,816,500,000</td>\n",
       "    </tr>\n",
       "    <tr>\n",
       "      <th>...</th>\n",
       "      <td>...</td>\n",
       "      <td>...</td>\n",
       "      <td>...</td>\n",
       "      <td>...</td>\n",
       "      <td>...</td>\n",
       "      <td>...</td>\n",
       "      <td>...</td>\n",
       "    </tr>\n",
       "    <tr>\n",
       "      <th>1308</th>\n",
       "      <td>Dec 31, 2013</td>\n",
       "      <td>760.32</td>\n",
       "      <td>760.58</td>\n",
       "      <td>738.17</td>\n",
       "      <td>754.01</td>\n",
       "      <td>20,897,300</td>\n",
       "      <td>9,268,240,000</td>\n",
       "    </tr>\n",
       "    <tr>\n",
       "      <th>1309</th>\n",
       "      <td>Dec 30, 2013</td>\n",
       "      <td>741.35</td>\n",
       "      <td>766.60</td>\n",
       "      <td>740.24</td>\n",
       "      <td>756.13</td>\n",
       "      <td>20,707,700</td>\n",
       "      <td>9,037,000,000</td>\n",
       "    </tr>\n",
       "    <tr>\n",
       "      <th>1310</th>\n",
       "      <td>Dec 29, 2013</td>\n",
       "      <td>728.05</td>\n",
       "      <td>748.61</td>\n",
       "      <td>714.44</td>\n",
       "      <td>745.05</td>\n",
       "      <td>19,011,300</td>\n",
       "      <td>8,872,600,000</td>\n",
       "    </tr>\n",
       "    <tr>\n",
       "      <th>1311</th>\n",
       "      <td>Dec 28, 2013</td>\n",
       "      <td>737.98</td>\n",
       "      <td>747.06</td>\n",
       "      <td>705.35</td>\n",
       "      <td>727.83</td>\n",
       "      <td>32,505,800</td>\n",
       "      <td>8,990,850,000</td>\n",
       "    </tr>\n",
       "    <tr>\n",
       "      <th>1312</th>\n",
       "      <td>Dec 27, 2013</td>\n",
       "      <td>763.28</td>\n",
       "      <td>777.51</td>\n",
       "      <td>713.60</td>\n",
       "      <td>735.07</td>\n",
       "      <td>46,862,700</td>\n",
       "      <td>9,295,570,000</td>\n",
       "    </tr>\n",
       "  </tbody>\n",
       "</table>\n",
       "<p>1313 rows × 7 columns</p>\n",
       "</div>"
      ],
      "text/plain": [
       "              date     open     high      low    close         volume  \\\n",
       "0     Jul 31, 2017  2763.24  2889.62  2720.61  2875.34    860,575,000   \n",
       "1     Jul 30, 2017  2724.39  2758.53  2644.85  2757.18    705,943,000   \n",
       "2     Jul 29, 2017  2807.02  2808.76  2692.80  2726.45    803,746,000   \n",
       "3     Jul 28, 2017  2679.73  2897.45  2679.73  2809.01  1,380,100,000   \n",
       "4     Jul 27, 2017  2538.71  2693.32  2529.34  2671.78    789,104,000   \n",
       "...            ...      ...      ...      ...      ...            ...   \n",
       "1308  Dec 31, 2013   760.32   760.58   738.17   754.01     20,897,300   \n",
       "1309  Dec 30, 2013   741.35   766.60   740.24   756.13     20,707,700   \n",
       "1310  Dec 29, 2013   728.05   748.61   714.44   745.05     19,011,300   \n",
       "1311  Dec 28, 2013   737.98   747.06   705.35   727.83     32,505,800   \n",
       "1312  Dec 27, 2013   763.28   777.51   713.60   735.07     46,862,700   \n",
       "\n",
       "          market_cap  \n",
       "0     45,535,800,000  \n",
       "1     44,890,700,000  \n",
       "2     46,246,700,000  \n",
       "3     44,144,400,000  \n",
       "4     41,816,500,000  \n",
       "...              ...  \n",
       "1308   9,268,240,000  \n",
       "1309   9,037,000,000  \n",
       "1310   8,872,600,000  \n",
       "1311   8,990,850,000  \n",
       "1312   9,295,570,000  \n",
       "\n",
       "[1313 rows x 7 columns]"
      ]
     },
     "execution_count": 42,
     "metadata": {},
     "output_type": "execute_result"
    }
   ],
   "source": [
    "data"
   ]
  },
  {
   "cell_type": "code",
   "execution_count": 43,
   "metadata": {},
   "outputs": [
    {
     "name": "stderr",
     "output_type": "stream",
     "text": [
      "C:\\Users\\Dell\\anaconda3\\lib\\site-packages\\pandas\\core\\frame.py:4524: SettingWithCopyWarning: \n",
      "A value is trying to be set on a copy of a slice from a DataFrame\n",
      "\n",
      "See the caveats in the documentation: https://pandas.pydata.org/pandas-docs/stable/user_guide/indexing.html#returning-a-view-versus-a-copy\n",
      "  return super().replace(\n"
     ]
    },
    {
     "data": {
      "text/html": [
       "<div>\n",
       "<style scoped>\n",
       "    .dataframe tbody tr th:only-of-type {\n",
       "        vertical-align: middle;\n",
       "    }\n",
       "\n",
       "    .dataframe tbody tr th {\n",
       "        vertical-align: top;\n",
       "    }\n",
       "\n",
       "    .dataframe thead th {\n",
       "        text-align: right;\n",
       "    }\n",
       "</style>\n",
       "<table border=\"1\" class=\"dataframe\">\n",
       "  <thead>\n",
       "    <tr style=\"text-align: right;\">\n",
       "      <th></th>\n",
       "      <th>date</th>\n",
       "      <th>open</th>\n",
       "      <th>high</th>\n",
       "      <th>low</th>\n",
       "      <th>close</th>\n",
       "      <th>volume</th>\n",
       "      <th>market_cap</th>\n",
       "    </tr>\n",
       "  </thead>\n",
       "  <tbody>\n",
       "    <tr>\n",
       "      <th>0</th>\n",
       "      <td>Jul 31 2017</td>\n",
       "      <td>2763.24</td>\n",
       "      <td>2889.62</td>\n",
       "      <td>2720.61</td>\n",
       "      <td>2875.34</td>\n",
       "      <td>860575000</td>\n",
       "      <td>45535800000</td>\n",
       "    </tr>\n",
       "    <tr>\n",
       "      <th>1</th>\n",
       "      <td>Jul 30 2017</td>\n",
       "      <td>2724.39</td>\n",
       "      <td>2758.53</td>\n",
       "      <td>2644.85</td>\n",
       "      <td>2757.18</td>\n",
       "      <td>705943000</td>\n",
       "      <td>44890700000</td>\n",
       "    </tr>\n",
       "    <tr>\n",
       "      <th>2</th>\n",
       "      <td>Jul 29 2017</td>\n",
       "      <td>2807.02</td>\n",
       "      <td>2808.76</td>\n",
       "      <td>2692.80</td>\n",
       "      <td>2726.45</td>\n",
       "      <td>803746000</td>\n",
       "      <td>46246700000</td>\n",
       "    </tr>\n",
       "    <tr>\n",
       "      <th>3</th>\n",
       "      <td>Jul 28 2017</td>\n",
       "      <td>2679.73</td>\n",
       "      <td>2897.45</td>\n",
       "      <td>2679.73</td>\n",
       "      <td>2809.01</td>\n",
       "      <td>1380100000</td>\n",
       "      <td>44144400000</td>\n",
       "    </tr>\n",
       "    <tr>\n",
       "      <th>4</th>\n",
       "      <td>Jul 27 2017</td>\n",
       "      <td>2538.71</td>\n",
       "      <td>2693.32</td>\n",
       "      <td>2529.34</td>\n",
       "      <td>2671.78</td>\n",
       "      <td>789104000</td>\n",
       "      <td>41816500000</td>\n",
       "    </tr>\n",
       "  </tbody>\n",
       "</table>\n",
       "</div>"
      ],
      "text/plain": [
       "          date     open     high      low    close      volume   market_cap\n",
       "0  Jul 31 2017  2763.24  2889.62  2720.61  2875.34   860575000  45535800000\n",
       "1  Jul 30 2017  2724.39  2758.53  2644.85  2757.18   705943000  44890700000\n",
       "2  Jul 29 2017  2807.02  2808.76  2692.80  2726.45   803746000  46246700000\n",
       "3  Jul 28 2017  2679.73  2897.45  2679.73  2809.01  1380100000  44144400000\n",
       "4  Jul 27 2017  2538.71  2693.32  2529.34  2671.78   789104000  41816500000"
      ]
     },
     "execution_count": 43,
     "metadata": {},
     "output_type": "execute_result"
    }
   ],
   "source": [
    "# Replace ',' to '.' or remove... to convert it to float64 without error\n",
    "data.replace(',', '', regex = True, inplace = True)\n",
    "data.head()"
   ]
  },
  {
   "cell_type": "code",
   "execution_count": 44,
   "metadata": {},
   "outputs": [
    {
     "data": {
      "text/plain": [
       "0       4.553580e+10\n",
       "1       4.489070e+10\n",
       "2       4.624670e+10\n",
       "3       4.414440e+10\n",
       "4       4.181650e+10\n",
       "            ...     \n",
       "1308    9.268240e+09\n",
       "1309    9.037000e+09\n",
       "1310    8.872600e+09\n",
       "1311    8.990850e+09\n",
       "1312    9.295570e+09\n",
       "Name: market_cap, Length: 1313, dtype: float64"
      ]
     },
     "execution_count": 44,
     "metadata": {},
     "output_type": "execute_result"
    }
   ],
   "source": [
    "# Convert Dtype of 'Volume' columns to float64\n",
    "data.market_cap.astype(float)"
   ]
  },
  {
   "cell_type": "code",
   "execution_count": 45,
   "metadata": {},
   "outputs": [
    {
     "name": "stderr",
     "output_type": "stream",
     "text": [
      "C:\\Users\\Dell\\anaconda3\\lib\\site-packages\\pandas\\core\\frame.py:4524: SettingWithCopyWarning: \n",
      "A value is trying to be set on a copy of a slice from a DataFrame\n",
      "\n",
      "See the caveats in the documentation: https://pandas.pydata.org/pandas-docs/stable/user_guide/indexing.html#returning-a-view-versus-a-copy\n",
      "  return super().replace(\n"
     ]
    },
    {
     "data": {
      "text/html": [
       "<div>\n",
       "<style scoped>\n",
       "    .dataframe tbody tr th:only-of-type {\n",
       "        vertical-align: middle;\n",
       "    }\n",
       "\n",
       "    .dataframe tbody tr th {\n",
       "        vertical-align: top;\n",
       "    }\n",
       "\n",
       "    .dataframe thead th {\n",
       "        text-align: right;\n",
       "    }\n",
       "</style>\n",
       "<table border=\"1\" class=\"dataframe\">\n",
       "  <thead>\n",
       "    <tr style=\"text-align: right;\">\n",
       "      <th></th>\n",
       "      <th>date</th>\n",
       "      <th>open</th>\n",
       "      <th>high</th>\n",
       "      <th>low</th>\n",
       "      <th>close</th>\n",
       "      <th>volume</th>\n",
       "      <th>market_cap</th>\n",
       "    </tr>\n",
       "  </thead>\n",
       "  <tbody>\n",
       "    <tr>\n",
       "      <th>0</th>\n",
       "      <td>Jul 31 2017</td>\n",
       "      <td>2763.24</td>\n",
       "      <td>2889.62</td>\n",
       "      <td>2720.61</td>\n",
       "      <td>2875.34</td>\n",
       "      <td>860575000</td>\n",
       "      <td>45535800000</td>\n",
       "    </tr>\n",
       "    <tr>\n",
       "      <th>1</th>\n",
       "      <td>Jul 30 2017</td>\n",
       "      <td>2724.39</td>\n",
       "      <td>2758.53</td>\n",
       "      <td>2644.85</td>\n",
       "      <td>2757.18</td>\n",
       "      <td>705943000</td>\n",
       "      <td>44890700000</td>\n",
       "    </tr>\n",
       "    <tr>\n",
       "      <th>2</th>\n",
       "      <td>Jul 29 2017</td>\n",
       "      <td>2807.02</td>\n",
       "      <td>2808.76</td>\n",
       "      <td>2692.80</td>\n",
       "      <td>2726.45</td>\n",
       "      <td>803746000</td>\n",
       "      <td>46246700000</td>\n",
       "    </tr>\n",
       "    <tr>\n",
       "      <th>3</th>\n",
       "      <td>Jul 28 2017</td>\n",
       "      <td>2679.73</td>\n",
       "      <td>2897.45</td>\n",
       "      <td>2679.73</td>\n",
       "      <td>2809.01</td>\n",
       "      <td>1380100000</td>\n",
       "      <td>44144400000</td>\n",
       "    </tr>\n",
       "    <tr>\n",
       "      <th>4</th>\n",
       "      <td>Jul 27 2017</td>\n",
       "      <td>2538.71</td>\n",
       "      <td>2693.32</td>\n",
       "      <td>2529.34</td>\n",
       "      <td>2671.78</td>\n",
       "      <td>789104000</td>\n",
       "      <td>41816500000</td>\n",
       "    </tr>\n",
       "  </tbody>\n",
       "</table>\n",
       "</div>"
      ],
      "text/plain": [
       "          date     open     high      low    close      volume   market_cap\n",
       "0  Jul 31 2017  2763.24  2889.62  2720.61  2875.34   860575000  45535800000\n",
       "1  Jul 30 2017  2724.39  2758.53  2644.85  2757.18   705943000  44890700000\n",
       "2  Jul 29 2017  2807.02  2808.76  2692.80  2726.45   803746000  46246700000\n",
       "3  Jul 28 2017  2679.73  2897.45  2679.73  2809.01  1380100000  44144400000\n",
       "4  Jul 27 2017  2538.71  2693.32  2529.34  2671.78   789104000  41816500000"
      ]
     },
     "execution_count": 45,
     "metadata": {},
     "output_type": "execute_result"
    }
   ],
   "source": [
    "# Replace ',' to '.' or remove... to convert it to float64 without error\n",
    "data.replace(',', '', regex = True, inplace = True)\n",
    "data.head()"
   ]
  },
  {
   "cell_type": "code",
   "execution_count": 46,
   "metadata": {},
   "outputs": [
    {
     "data": {
      "text/plain": [
       "0       8.605750e+08\n",
       "1       7.059430e+08\n",
       "2       8.037460e+08\n",
       "3       1.380100e+09\n",
       "4       7.891040e+08\n",
       "            ...     \n",
       "1308    2.089730e+07\n",
       "1309    2.070770e+07\n",
       "1310    1.901130e+07\n",
       "1311    3.250580e+07\n",
       "1312    4.686270e+07\n",
       "Name: volume, Length: 1313, dtype: float64"
      ]
     },
     "execution_count": 46,
     "metadata": {},
     "output_type": "execute_result"
    }
   ],
   "source": [
    "# Convert Dtype of 'Volume' columns to float64\n",
    "data.volume.astype(float)"
   ]
  },
  {
   "cell_type": "code",
   "execution_count": 47,
   "metadata": {},
   "outputs": [
    {
     "data": {
      "text/html": [
       "<div>\n",
       "<style scoped>\n",
       "    .dataframe tbody tr th:only-of-type {\n",
       "        vertical-align: middle;\n",
       "    }\n",
       "\n",
       "    .dataframe tbody tr th {\n",
       "        vertical-align: top;\n",
       "    }\n",
       "\n",
       "    .dataframe thead th {\n",
       "        text-align: right;\n",
       "    }\n",
       "</style>\n",
       "<table border=\"1\" class=\"dataframe\">\n",
       "  <thead>\n",
       "    <tr style=\"text-align: right;\">\n",
       "      <th></th>\n",
       "      <th>date</th>\n",
       "      <th>open</th>\n",
       "      <th>high</th>\n",
       "      <th>low</th>\n",
       "      <th>close</th>\n",
       "      <th>volume</th>\n",
       "      <th>market_cap</th>\n",
       "    </tr>\n",
       "  </thead>\n",
       "  <tbody>\n",
       "    <tr>\n",
       "      <th>1217</th>\n",
       "      <td>Apr 01 2014</td>\n",
       "      <td>457.00</td>\n",
       "      <td>495.34</td>\n",
       "      <td>457.00</td>\n",
       "      <td>478.38</td>\n",
       "      <td>35685800</td>\n",
       "      <td>5752280000</td>\n",
       "    </tr>\n",
       "    <tr>\n",
       "      <th>852</th>\n",
       "      <td>Apr 01 2015</td>\n",
       "      <td>244.22</td>\n",
       "      <td>247.54</td>\n",
       "      <td>241.16</td>\n",
       "      <td>247.27</td>\n",
       "      <td>22877200</td>\n",
       "      <td>3420100000</td>\n",
       "    </tr>\n",
       "    <tr>\n",
       "      <th>486</th>\n",
       "      <td>Apr 01 2016</td>\n",
       "      <td>416.76</td>\n",
       "      <td>418.17</td>\n",
       "      <td>415.83</td>\n",
       "      <td>417.96</td>\n",
       "      <td>51235700</td>\n",
       "      <td>6409540000</td>\n",
       "    </tr>\n",
       "    <tr>\n",
       "      <th>121</th>\n",
       "      <td>Apr 01 2017</td>\n",
       "      <td>1071.71</td>\n",
       "      <td>1091.72</td>\n",
       "      <td>1061.09</td>\n",
       "      <td>1080.50</td>\n",
       "      <td>289634000</td>\n",
       "      <td>17413000000</td>\n",
       "    </tr>\n",
       "    <tr>\n",
       "      <th>1216</th>\n",
       "      <td>Apr 02 2014</td>\n",
       "      <td>479.14</td>\n",
       "      <td>495.05</td>\n",
       "      <td>431.27</td>\n",
       "      <td>437.14</td>\n",
       "      <td>49647600</td>\n",
       "      <td>6032970000</td>\n",
       "    </tr>\n",
       "    <tr>\n",
       "      <th>...</th>\n",
       "      <td>...</td>\n",
       "      <td>...</td>\n",
       "      <td>...</td>\n",
       "      <td>...</td>\n",
       "      <td>...</td>\n",
       "      <td>...</td>\n",
       "      <td>...</td>\n",
       "    </tr>\n",
       "    <tr>\n",
       "      <th>671</th>\n",
       "      <td>Sep 29 2015</td>\n",
       "      <td>239.02</td>\n",
       "      <td>239.80</td>\n",
       "      <td>235.93</td>\n",
       "      <td>236.69</td>\n",
       "      <td>22691300</td>\n",
       "      <td>3505090000</td>\n",
       "    </tr>\n",
       "    <tr>\n",
       "      <th>305</th>\n",
       "      <td>Sep 29 2016</td>\n",
       "      <td>605.02</td>\n",
       "      <td>606.82</td>\n",
       "      <td>604.85</td>\n",
       "      <td>605.69</td>\n",
       "      <td>55658600</td>\n",
       "      <td>9616160000</td>\n",
       "    </tr>\n",
       "    <tr>\n",
       "      <th>1035</th>\n",
       "      <td>Sep 30 2014</td>\n",
       "      <td>376.09</td>\n",
       "      <td>390.98</td>\n",
       "      <td>373.44</td>\n",
       "      <td>386.94</td>\n",
       "      <td>34707300</td>\n",
       "      <td>5012450000</td>\n",
       "    </tr>\n",
       "    <tr>\n",
       "      <th>670</th>\n",
       "      <td>Sep 30 2015</td>\n",
       "      <td>236.64</td>\n",
       "      <td>237.73</td>\n",
       "      <td>235.63</td>\n",
       "      <td>236.06</td>\n",
       "      <td>19743500</td>\n",
       "      <td>3471280000</td>\n",
       "    </tr>\n",
       "    <tr>\n",
       "      <th>304</th>\n",
       "      <td>Sep 30 2016</td>\n",
       "      <td>605.72</td>\n",
       "      <td>609.74</td>\n",
       "      <td>604.14</td>\n",
       "      <td>609.74</td>\n",
       "      <td>56122400</td>\n",
       "      <td>9628250000</td>\n",
       "    </tr>\n",
       "  </tbody>\n",
       "</table>\n",
       "<p>1313 rows × 7 columns</p>\n",
       "</div>"
      ],
      "text/plain": [
       "             date     open     high      low    close     volume   market_cap\n",
       "1217  Apr 01 2014   457.00   495.34   457.00   478.38   35685800   5752280000\n",
       "852   Apr 01 2015   244.22   247.54   241.16   247.27   22877200   3420100000\n",
       "486   Apr 01 2016   416.76   418.17   415.83   417.96   51235700   6409540000\n",
       "121   Apr 01 2017  1071.71  1091.72  1061.09  1080.50  289634000  17413000000\n",
       "1216  Apr 02 2014   479.14   495.05   431.27   437.14   49647600   6032970000\n",
       "...           ...      ...      ...      ...      ...        ...          ...\n",
       "671   Sep 29 2015   239.02   239.80   235.93   236.69   22691300   3505090000\n",
       "305   Sep 29 2016   605.02   606.82   604.85   605.69   55658600   9616160000\n",
       "1035  Sep 30 2014   376.09   390.98   373.44   386.94   34707300   5012450000\n",
       "670   Sep 30 2015   236.64   237.73   235.63   236.06   19743500   3471280000\n",
       "304   Sep 30 2016   605.72   609.74   604.14   609.74   56122400   9628250000\n",
       "\n",
       "[1313 rows x 7 columns]"
      ]
     },
     "execution_count": 47,
     "metadata": {},
     "output_type": "execute_result"
    }
   ],
   "source": [
    "# convert date column to date time\n",
    "pd.to_datetime(data.date)\n",
    "\n",
    "# sort the data by date column\n",
    "data.sort_values(by = 'date')"
   ]
  },
  {
   "cell_type": "markdown",
   "metadata": {},
   "source": [
    "# Data Spliting \n",
    "\n"
   ]
  },
  {
   "cell_type": "code",
   "execution_count": 48,
   "metadata": {},
   "outputs": [],
   "source": [
    "X = data.volume\n",
    "Y = data.market_cap\n",
    "X_train, X_test, Y_train, Y_test = train_test_split(X, Y, test_size = 0.4)"
   ]
  },
  {
   "cell_type": "code",
   "execution_count": 63,
   "metadata": {
    "scrolled": true
   },
   "outputs": [
    {
     "data": {
      "image/png": "[encoded data removed]",
      "text/plain": [
       "<Figure size 432x288 with 1 Axes>"
      ]
     },
     "metadata": {
      "needs_background": "light"
     },
     "output_type": "display_data"
    }
   ],
   "source": [
    "plt.scatter(data.volume,data.market_cap)\n",
    "plt.show()\n"
   ]
  },
  {
   "cell_type": "markdown",
   "metadata": {},
   "source": [
    "# Multiple Linear Regression\n"
   ]
  },
  {
   "cell_type": "code",
   "execution_count": 51,
   "metadata": {},
   "outputs": [],
   "source": [
    "x=data[[\"volume\",'close']]    #y = a + b1x1 + b2x2 \n",
    "y=data.market_cap\n",
    "x_train, x_test, y_train, y_test = train_test_split(x, y, test_size = 0.4)"
   ]
  },
  {
   "cell_type": "code",
   "execution_count": 64,
   "metadata": {},
   "outputs": [
    {
     "data": {
      "image/png": "[encoded data removed]",
      "text/plain": [
       "<Figure size 360x180 with 2 Axes>"
      ]
     },
     "metadata": {
      "needs_background": "light"
     },
     "output_type": "display_data"
    }
   ],
   "source": [
    "sns.pairplot(data,x_vars=[\"volume\",'close'],y_vars=['market_cap'],diag_kind=None);"
   ]
  },
  {
   "cell_type": "code",
   "execution_count": 53,
   "metadata": {},
   "outputs": [],
   "source": [
    "model=LinearRegression()"
   ]
  },
  {
   "cell_type": "code",
   "execution_count": 54,
   "metadata": {},
   "outputs": [
    {
     "data": {
      "text/plain": [
       "LinearRegression()"
      ]
     },
     "execution_count": 54,
     "metadata": {},
     "output_type": "execute_result"
    }
   ],
   "source": [
    "model.fit(x_train,y_train)"
   ]
  },
  {
   "cell_type": "code",
   "execution_count": 55,
   "metadata": {},
   "outputs": [
    {
     "data": {
      "text/plain": [
       "array([1.21158159e+10, 6.18139651e+09, 3.71203559e+09, 2.85055627e+10,\n",
       "       9.78636726e+09, 3.04585641e+09, 4.08112352e+09, 6.08553879e+09,\n",
       "       1.01693459e+10, 3.67622413e+09, 9.72258691e+09, 1.05074245e+10,\n",
       "       6.07367581e+09, 4.55880507e+09, 3.19355636e+09, 3.23603306e+09,\n",
       "       1.00503715e+10, 9.73157401e+09, 1.81356012e+10, 9.04069839e+09,\n",
       "       6.54103989e+09, 8.56322624e+09, 6.10034541e+09, 3.62561491e+09,\n",
       "       6.26891283e+09, 3.14683283e+09, 8.61866958e+09, 1.01317524e+10,\n",
       "       9.04484426e+09, 9.91363973e+09, 2.98790257e+09, 6.05330443e+09,\n",
       "       3.05627494e+09, 3.26149711e+09, 6.17134309e+09, 5.37379802e+09,\n",
       "       5.33604853e+09, 3.01646603e+09, 1.60048789e+10, 6.59947037e+09,\n",
       "       8.66515542e+09, 6.39427654e+09, 6.05404962e+09, 1.06686511e+10,\n",
       "       2.88459719e+09, 1.28062179e+10, 1.96462566e+10, 4.16250478e+10,\n",
       "       9.16682447e+09, 7.39048902e+09, 1.02276338e+10, 3.95435374e+09,\n",
       "       3.04301584e+09, 5.13649216e+09, 6.62422358e+09, 5.29264409e+09,\n",
       "       1.41551681e+10, 1.86529199e+10, 1.64047092e+10, 6.35275600e+09,\n",
       "       1.01771611e+10, 4.45991711e+09, 3.85728952e+09, 8.70923412e+09,\n",
       "       9.92319624e+09, 1.17242374e+10, 1.16229025e+10, 3.08890828e+09,\n",
       "       5.92834778e+09, 3.58917560e+09, 4.36978980e+09, 1.78505808e+10,\n",
       "       9.09744060e+09, 6.48202619e+09, 5.23528635e+09, 9.46683682e+09,\n",
       "       6.43330004e+09, 2.97770282e+10, 7.75605529e+09, 3.18196191e+09,\n",
       "       4.97094584e+09, 9.10254951e+09, 4.40754469e+10, 6.13241252e+09,\n",
       "       1.71956170e+10, 9.44755131e+09, 6.32241992e+09, 5.92052080e+09,\n",
       "       3.13574072e+09, 1.50790210e+10, 6.40437467e+09, 2.74431584e+09,\n",
       "       5.70408052e+09, 4.48939292e+09, 7.28537412e+09, 4.54881526e+09,\n",
       "       3.00252900e+09, 1.89498934e+10, 4.41630121e+09, 9.52407692e+09,\n",
       "       6.08660108e+09, 5.86552628e+09, 5.23902377e+09, 3.15515043e+09,\n",
       "       8.53800483e+09, 4.04921901e+09, 8.18902964e+09, 1.03468747e+10,\n",
       "       2.89790401e+10, 8.67847764e+09, 2.77755930e+09, 8.93255262e+09,\n",
       "       3.01357338e+09, 4.35304600e+10, 6.02520019e+09, 5.31446737e+09,\n",
       "       3.71896418e+09, 9.17613897e+09, 7.07458824e+09, 3.22397083e+09,\n",
       "       6.41304205e+09, 6.52483200e+09, 4.71440961e+09, 9.77264461e+09,\n",
       "       1.43278697e+10, 3.83892645e+10, 1.11312627e+10, 6.04340943e+09,\n",
       "       3.91969080e+09, 1.79245296e+10, 6.29091902e+09, 1.09533325e+10,\n",
       "       3.60545080e+09, 1.35744130e+10, 3.48421743e+09, 5.27783290e+09,\n",
       "       4.09848891e+09, 1.02667096e+10, 8.63825541e+09, 1.41253665e+10,\n",
       "       3.12326851e+09, 5.38398424e+09, 1.24223614e+10, 3.07998308e+09,\n",
       "       8.50089368e+09, 2.79457376e+09, 9.26376370e+09, 9.04475998e+09,\n",
       "       1.18369939e+10, 6.51087364e+09, 6.94351254e+09, 9.08251203e+09,\n",
       "       3.97548968e+09, 9.14914928e+09, 8.76160779e+09, 4.79803552e+10,\n",
       "       3.83996788e+09, 2.90923659e+09, 1.10377953e+10, 8.61645859e+09,\n",
       "       9.77902686e+09, 5.55017935e+09, 6.03005397e+09, 1.11199357e+10,\n",
       "       9.47826326e+09, 1.19399641e+10, 3.24740662e+09, 1.08260464e+10,\n",
       "       5.45774200e+09, 3.64467848e+10, 6.50181533e+09, 8.65267084e+09,\n",
       "       8.85621588e+09, 3.61591618e+09, 2.87873608e+10, 2.30019995e+10,\n",
       "       2.79913189e+09, 8.41413421e+09, 3.97781126e+10, 6.72389909e+09,\n",
       "       5.64368700e+09, 7.22361076e+09, 3.02028074e+09, 9.18947602e+09,\n",
       "       3.57727022e+09, 1.90778513e+10, 3.29580583e+09, 1.40845332e+10,\n",
       "       3.29903905e+09, 4.56082446e+09, 1.10581676e+10, 1.06170237e+10,\n",
       "       4.53441085e+09, 3.15990232e+09, 3.00790171e+09, 1.83680711e+10,\n",
       "       9.26026737e+09, 6.15554043e+09, 5.52807004e+09, 1.47844414e+10,\n",
       "       8.42823517e+09, 5.67897569e+09, 7.26360152e+09, 1.88547688e+10,\n",
       "       6.90510581e+09, 6.24002630e+09, 2.89641554e+09, 1.96472646e+10,\n",
       "       6.42864354e+09, 8.46701125e+09, 9.67193658e+09, 3.72701688e+09,\n",
       "       7.58449479e+09, 1.23625560e+10, 6.92494899e+09, 6.86767474e+09,\n",
       "       1.60847316e+10, 5.90689663e+09, 2.94203426e+09, 5.48051294e+09,\n",
       "       5.35620218e+09, 5.28175742e+09, 6.34436137e+09, 9.83346937e+09,\n",
       "       1.83372572e+10, 3.00563966e+09, 1.05333569e+10, 4.11905201e+10,\n",
       "       4.78862528e+09, 7.24075303e+09, 8.47190941e+09, 1.94781109e+10,\n",
       "       8.38142850e+09, 3.74713597e+09, 6.43893555e+09, 9.74853671e+09,\n",
       "       6.64090484e+09, 6.77821872e+09, 6.93896347e+09, 3.94941800e+09,\n",
       "       1.63601261e+10, 8.83068646e+09, 8.99500765e+09, 6.14525966e+09,\n",
       "       3.57711172e+09, 2.93427727e+09, 3.72295189e+10, 9.59554711e+09,\n",
       "       4.91766351e+10, 1.15715796e+10, 5.33243909e+09, 3.61207861e+09,\n",
       "       6.72450648e+09, 4.03784227e+09, 6.05555827e+09, 1.24686093e+10,\n",
       "       8.74473535e+09, 7.60510473e+09, 8.50501096e+09, 1.29841958e+10,\n",
       "       2.08522523e+10, 3.19190227e+09, 1.62164542e+10, 9.98989830e+09,\n",
       "       1.27392391e+10, 1.08627658e+10, 1.93688953e+10, 1.59433008e+10,\n",
       "       6.45300529e+09, 3.42422331e+09, 3.22752273e+09, 8.49701639e+09,\n",
       "       6.41302764e+09, 8.76613417e+09, 6.55373589e+09, 7.67005504e+09,\n",
       "       3.13536033e+09, 1.23213170e+10, 8.56768923e+09, 8.93913969e+09,\n",
       "       6.43094692e+09, 9.04904237e+09, 1.13031298e+10, 9.12389167e+09,\n",
       "       1.82481882e+10, 9.40965573e+09, 9.21007388e+09, 6.96446808e+09,\n",
       "       9.40607831e+09, 4.40331823e+09, 3.85344548e+09, 5.50697852e+09,\n",
       "       3.40009748e+09, 4.53434873e+10, 3.92106059e+09, 1.50888216e+10,\n",
       "       3.75528029e+09, 8.54076247e+09, 3.19041505e+09, 9.30052015e+09,\n",
       "       9.14624220e+09, 5.94333099e+09, 3.29531535e+09, 6.72177524e+09,\n",
       "       2.09572386e+10, 9.11689786e+09, 8.74529787e+09, 1.88330003e+10,\n",
       "       5.17940144e+09, 1.07555621e+10, 1.44769921e+10, 3.40304185e+09,\n",
       "       6.70629242e+09, 3.04046916e+09, 6.32387571e+09, 8.72254415e+09,\n",
       "       7.12317365e+09, 3.84660749e+09, 3.07727247e+09, 4.18291185e+10,\n",
       "       1.30719956e+10, 6.49092368e+09, 3.11876932e+09, 1.25154334e+10,\n",
       "       4.38426256e+10, 3.25949948e+09, 5.11822547e+09, 3.17514221e+09,\n",
       "       9.34333270e+09, 3.82227183e+09, 9.04278524e+09, 8.86557307e+09,\n",
       "       9.02366841e+09, 4.56649116e+09, 2.84370476e+09, 3.26907778e+09,\n",
       "       1.75777032e+10, 3.94075699e+09, 4.46085101e+09, 3.60207819e+09,\n",
       "       3.11385215e+09, 1.29271928e+10, 1.13907306e+10, 4.37292202e+10,\n",
       "       1.09594927e+10, 3.37876486e+09, 6.46183853e+09, 8.02147224e+09,\n",
       "       3.36358122e+09, 4.07269994e+10, 5.30381448e+09, 4.94730492e+09,\n",
       "       3.19384175e+09, 9.11534426e+09, 3.73218616e+09, 6.67159724e+09,\n",
       "       8.89623809e+09, 1.84315130e+10, 8.97197632e+09, 8.97691607e+09,\n",
       "       1.00250172e+10, 3.08098278e+09, 8.60065908e+09, 6.88717733e+09,\n",
       "       1.08514883e+10, 1.05490682e+10, 6.62502499e+09, 3.26992573e+09,\n",
       "       5.94447270e+09, 1.03916551e+10, 2.96652766e+09, 3.78172237e+10,\n",
       "       9.51576456e+09, 4.39252070e+10, 1.23920026e+10, 1.71379731e+10,\n",
       "       3.06448533e+09, 8.75499903e+09, 5.34506657e+09, 6.61260704e+09,\n",
       "       1.49976763e+10, 6.68081712e+09, 6.06489021e+09, 8.85817559e+09,\n",
       "       9.63682895e+09, 2.98995063e+09, 6.04336254e+09, 1.16005394e+10,\n",
       "       9.17467167e+09, 4.08684698e+09, 4.83527507e+09, 1.16099397e+10,\n",
       "       3.00169372e+09, 5.32952102e+09, 3.77337576e+09, 6.28727943e+09,\n",
       "       1.13946378e+10, 4.74810328e+09, 3.68475404e+09, 1.21498547e+10,\n",
       "       6.40855612e+09, 9.03447798e+09, 3.45028767e+09, 5.80492269e+09,\n",
       "       9.17712716e+09, 6.55416699e+09, 5.20078598e+09, 3.10887564e+09,\n",
       "       9.49810625e+09, 1.57039405e+10, 1.02447131e+10, 1.51631531e+10,\n",
       "       9.06689045e+09, 4.12756926e+10, 2.95557384e+09, 3.59590046e+09,\n",
       "       1.00522143e+10, 2.92573247e+09, 6.21347775e+09, 1.22962823e+10,\n",
       "       6.07823870e+09, 6.00740039e+09, 1.53330252e+10, 2.36079133e+09,\n",
       "       3.42983686e+09, 9.82965795e+09, 3.02915744e+09, 3.49479552e+09,\n",
       "       9.94624978e+09, 6.72613945e+09, 1.16227452e+10, 8.60218844e+09,\n",
       "       1.23979574e+10, 9.39402228e+09, 4.07569632e+10, 3.47505778e+09,\n",
       "       4.06027414e+09, 1.17653582e+10, 2.83673104e+09, 5.46420724e+09,\n",
       "       3.31393102e+09, 4.83244234e+09, 7.49689750e+09, 1.93949527e+10,\n",
       "       4.97091915e+09, 2.51634509e+10, 5.55677158e+09, 3.07540742e+09,\n",
       "       3.92166826e+09, 7.22492119e+09, 9.62063196e+09, 6.59578349e+09,\n",
       "       4.70704154e+09, 3.97862039e+10, 4.58446014e+09, 4.73519760e+09,\n",
       "       5.95777745e+09, 2.91739765e+09, 3.43743936e+10, 5.32985643e+09,\n",
       "       4.85783433e+09, 1.27252438e+10, 3.69751843e+09, 4.47135537e+09,\n",
       "       4.84271422e+09, 3.23544013e+09, 3.04429021e+09, 3.85371835e+09,\n",
       "       1.26020067e+10, 1.17695895e+10, 8.69526944e+09, 1.21996114e+10,\n",
       "       5.67945298e+09, 4.34364303e+09, 3.32297118e+09, 6.22357412e+09,\n",
       "       1.32928567e+10, 1.18833425e+10, 1.10100254e+10, 4.56272779e+10,\n",
       "       7.05758493e+09, 2.93564147e+09, 3.01947740e+09, 9.05223681e+09,\n",
       "       9.07829376e+09, 1.11490489e+10, 5.47488157e+09, 1.01601961e+10,\n",
       "       3.60527235e+10, 6.83199900e+09, 5.14116292e+09, 7.44102829e+09,\n",
       "       5.18119294e+09, 3.07631898e+09, 3.02054453e+09, 3.00298984e+09,\n",
       "       8.85013672e+09, 1.24814979e+10, 3.04590641e+09, 1.11929823e+10,\n",
       "       2.12437045e+10, 1.39035382e+10, 1.18835463e+10, 1.40012976e+10,\n",
       "       3.38393658e+09, 5.14770720e+09, 1.51025558e+10, 9.82033737e+09,\n",
       "       7.96585784e+09, 9.92857488e+09, 8.63659460e+09, 6.44536761e+09,\n",
       "       1.19434665e+10, 3.14761192e+09, 1.87104713e+10, 7.21885478e+09,\n",
       "       8.52085666e+09, 3.19025153e+09, 5.41720621e+09, 3.90257789e+09,\n",
       "       3.09783554e+09, 4.63358774e+09, 4.09753306e+10, 4.20377193e+10,\n",
       "       3.73363850e+09, 3.12682909e+09])"
      ]
     },
     "execution_count": 55,
     "metadata": {},
     "output_type": "execute_result"
    }
   ],
   "source": [
    "y_predict=model.predict(x_test)\n",
    "y_predict"
   ]
  },
  {
   "cell_type": "code",
   "execution_count": 56,
   "metadata": {},
   "outputs": [
    {
     "data": {
      "text/plain": [
       "223    12717600000\n",
       "475     6520870000\n",
       "653     3870490000\n",
       "78     29405100000\n",
       "373    10263700000\n",
       "          ...     \n",
       "952     4376890000\n",
       "23     41417700000\n",
       "34     40677900000\n",
       "757     3741670000\n",
       "890     3390510000\n",
       "Name: market_cap, Length: 526, dtype: object"
      ]
     },
     "execution_count": 56,
     "metadata": {},
     "output_type": "execute_result"
    }
   ],
   "source": [
    "y_test"
   ]
  },
  {
   "cell_type": "code",
   "execution_count": 57,
   "metadata": {},
   "outputs": [
    {
     "data": {
      "text/plain": [
       "-603190361.6458797"
      ]
     },
     "execution_count": 57,
     "metadata": {},
     "output_type": "execute_result"
    }
   ],
   "source": [
    "model.intercept_"
   ]
  },
  {
   "cell_type": "code",
   "execution_count": 58,
   "metadata": {},
   "outputs": [
    {
     "data": {
      "text/plain": [
       "array([1.79542484e+00, 1.56579379e+07])"
      ]
     },
     "execution_count": 58,
     "metadata": {},
     "output_type": "execute_result"
    }
   ],
   "source": [
    "model.coef_"
   ]
  }
 ],
 "metadata": {
  "interpreter": {
   "hash": "3f800561dde6209f0c647b1ec24b295364b37801e2a63d392a491285ef4d5a88"
  },
  "kernelspec": {
   "display_name": "Python 3",
   "language": "python",
   "name": "python3"
  },
  "language_info": {
   "codemirror_mode": {
    "name": "ipython",
    "version": 3
   },
   "file_extension": ".py",
   "mimetype": "text/x-python",
   "name": "python",
   "nbconvert_exporter": "python",
   "pygments_lexer": "ipython3",
   "version": "3.8.8"
  }
 },
 "nbformat": 4,
 "nbformat_minor": 2
}
